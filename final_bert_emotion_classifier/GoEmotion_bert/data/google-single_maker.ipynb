{
 "cells": [
  {
   "cell_type": "code",
   "execution_count": 11,
   "metadata": {},
   "outputs": [
    {
     "name": "stdout",
     "output_type": "stream",
     "text": [
      "1\n",
      "-1\n"
     ]
    }
   ],
   "source": [
    "import pandas as pd\n",
    "multi_train = pd.read_csv(\"train.tsv\", sep='\\t', header=None)\n",
    "multi_test = pd.read_csv(\"test.tsv\", sep='\\t', header=None)\n",
    "multi_dev = pd.read_csv(\"dev.tsv\", sep='\\t', header=None)\n",
    "\n",
    "print(multi_train.iloc[7][1].find(\",\"))\n",
    "print(multi_train.iloc[6][1].find(\",\"))"
   ]
  },
  {
   "cell_type": "code",
   "execution_count": 19,
   "metadata": {},
   "outputs": [],
   "source": [
    "train_single = (multi_train[1].str.find(\",\")==-1)\n",
    "single_train = multi_train.loc[train_single,:]\n",
    "single_train.to_csv(\"google_single_train.tsv\", sep=\"\\t\", header=False, index=False)\n",
    "\n",
    "test_single = (multi_test[1].str.find(\",\")==-1)\n",
    "single_test = multi_test.loc[test_single,:]\n",
    "single_test.to_csv(\"google_single_test.tsv\", sep=\"\\t\", header=False, index=False)\n",
    "\n",
    "dev_single = (multi_dev[1].str.find(\",\")==-1)\n",
    "single_dev = multi_dev.loc[dev_single,:]\n",
    "single_dev.to_csv(\"google_single_dev.tsv\", sep=\"\\t\", header=False, index=False)"
   ]
  },
  {
   "cell_type": "code",
   "execution_count": null,
   "metadata": {},
   "outputs": [],
   "source": []
  }
 ],
 "metadata": {
  "kernelspec": {
   "display_name": "Python 3",
   "language": "python",
   "name": "python3"
  },
  "language_info": {
   "codemirror_mode": {
    "name": "ipython",
    "version": 3
   },
   "file_extension": ".py",
   "mimetype": "text/x-python",
   "name": "python",
   "nbconvert_exporter": "python",
   "pygments_lexer": "ipython3",
   "version": "3.6.9"
  }
 },
 "nbformat": 4,
 "nbformat_minor": 4
}
